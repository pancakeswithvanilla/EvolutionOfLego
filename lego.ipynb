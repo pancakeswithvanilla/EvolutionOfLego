{
  "cells": [
    {
      "cell_type": "code",
      "execution_count": 158,
      "metadata": {
        "trusted": true
      },
      "outputs": [],
      "source": [
        "#Exploring the Evolution of Lego project from DataCamp"
      ]
    },
    {
      "cell_type": "code",
      "execution_count": 159,
      "metadata": {
        "trusted": true
      },
      "outputs": [],
      "source": [
        "import pandas as pd\n",
        "import numpy as np"
      ]
    },
    {
      "cell_type": "code",
      "execution_count": 160,
      "metadata": {
        "trusted": true
      },
      "outputs": [],
      "source": [
        "lego_sets = pd.read_csv('lego_sets.csv')\n",
        "parent_themes = pd.read_csv(\"parent_themes.csv\")\n",
        "themes = pd.read_csv(\"themes.csv\")"
      ]
    },
    {
      "cell_type": "code",
      "execution_count": 161,
      "metadata": {
        "trusted": true
      },
      "outputs": [],
      "source": [
        "#What percentage of all licensed sets ever released were Star Wars themed? Answer stored in the_force variable"
      ]
    },
    {
      "cell_type": "code",
      "execution_count": 162,
      "metadata": {
        "trusted": true
      },
      "outputs": [],
      "source": [
        "starwars_sets = lego_sets[lego_sets[\"parent_theme\"]==\"Star Wars\"]\n",
        "licensed_themes = parent_themes[parent_themes[\"is_licensed\"]]\n",
        "licensed_themes_name= parent_themes[parent_themes[\"is_licensed\"]].name.to_numpy()\n",
        "num_licensed_themes = licensed_themes.shape[0]"
      ]
    },
    {
      "cell_type": "code",
      "execution_count": 163,
      "metadata": {
        "trusted": true
      },
      "outputs": [
        {
          "name": "stderr",
          "output_type": "stream",
          "text": [
            "<ipython-input-163-a1e5833af393>:2: SettingWithCopyWarning: \n",
            "A value is trying to be set on a copy of a slice from a DataFrame\n",
            "\n",
            "See the caveats in the documentation: https://pandas.pydata.org/pandas-docs/stable/user_guide/indexing.html#returning-a-view-versus-a-copy\n",
            "  matching_sets.dropna(subset =['set_num'], inplace = True)\n"
          ]
        }
      ],
      "source": [
        "matching_sets = lego_sets[lego_sets['parent_theme'].isin(licensed_themes_name)]\n",
        "matching_sets.dropna(subset =['set_num'], inplace = True)\n",
        "num_matching_sets = matching_sets.shape[0]\n"
      ]
    },
    {
      "cell_type": "code",
      "execution_count": 164,
      "metadata": {
        "trusted": true
      },
      "outputs": [
        {
          "name": "stdout",
          "output_type": "stream",
          "text": [
            "51\n"
          ]
        }
      ],
      "source": [
        "the_force = starwars_sets.count()/(num_matching_sets)*100\n",
        "the_force = int(the_force.iloc[0])\n",
        "print(the_force)"
      ]
    },
    {
      "cell_type": "code",
      "execution_count": 165,
      "metadata": {
        "trusted": true
      },
      "outputs": [],
      "source": [
        "#In which year was Star Wars not the most popular licensed theme(in terms of number of sets released that year)? Answer stored in new_era"
      ]
    },
    {
      "cell_type": "code",
      "execution_count": 166,
      "metadata": {
        "trusted": true
      },
      "outputs": [],
      "source": [
        "yearly_theme_counts = {}\n",
        "grouped_data = matching_sets.groupby(['year', 'parent_theme']).size()\n",
        "for (year, parent_theme), count in grouped_data.items():\n",
        "    if year not in yearly_theme_counts:\n",
        "        yearly_theme_counts[year] = []\n",
        "    yearly_theme_counts[year].append((parent_theme, count))"
      ]
    },
    {
      "cell_type": "code",
      "execution_count": 167,
      "metadata": {
        "trusted": true
      },
      "outputs": [
        {
          "name": "stdout",
          "output_type": "stream",
          "text": [
            "2017\n"
          ]
        }
      ],
      "source": [
        "other_theme_higher_year = 0\n",
        "for year, theme_counts in yearly_theme_counts.items():\n",
        "    starwars_count = 0\n",
        "    other_theme_count = 0\n",
        "    for theme, count in theme_counts:\n",
        "        if theme == \"Star Wars\":\n",
        "            starwars_count = count\n",
        "        elif count > starwars_count:\n",
        "            other_theme_count = count\n",
        "            other_theme_higher_year =year\n",
        "            break\n",
        "new_era = other_theme_higher_year\n",
        "print(new_era)\n"
      ]
    },
    {
      "cell_type": "code",
      "execution_count": null,
      "metadata": {
        "trusted": true
      },
      "outputs": [],
      "source": []
    }
  ],
  "metadata": {
    "kernelspec": {
      "display_name": "Python (Pyodide)",
      "language": "python",
      "name": "python"
    },
    "language_info": {
      "codemirror_mode": {
        "name": "python",
        "version": 3
      },
      "file_extension": ".py",
      "mimetype": "text/x-python",
      "name": "python",
      "nbconvert_exporter": "python",
      "pygments_lexer": "ipython3",
      "version": "3.8"
    }
  },
  "nbformat": 4,
  "nbformat_minor": 4
}
